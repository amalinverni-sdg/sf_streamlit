{
 "metadata": {
  "kernelspec": {
   "display_name": "Streamlit Notebook",
   "name": "streamlit"
  },
  "lastEditStatus": {
   "notebookId": "bxsr7cfmcdcc45geapls",
   "authorId": "4659153133516",
   "authorName": "ANDREAMALINVERNI",
   "authorEmail": "andrea.malinverni@sdggroup.com",
   "sessionId": "31b87c2e-9c98-42ad-adcf-a15fc1e7c028",
   "lastEditTime": 1751965283914
  }
 },
 "nbformat_minor": 5,
 "nbformat": 4,
 "cells": [
  {
   "cell_type": "code",
   "id": "3775908f-ca36-4846-8f38-5adca39217f2",
   "metadata": {
    "language": "python",
    "name": "import_stuff"
   },
   "source": "import streamlit as st\nfrom snowflake.snowpark.context import get_active_session\nsession = get_active_session()\nprint(session)",
   "execution_count": null,
   "outputs": []
  },
  {
   "cell_type": "code",
   "id": "3e3d43a7-3d34-4a04-b396-beb8d311f349",
   "metadata": {
    "language": "sql",
    "name": "cell1",
    "codeCollapsed": false
   },
   "outputs": [],
   "source": "use role SYSADMIN;",
   "execution_count": null
  },
  {
   "cell_type": "code",
   "id": "b7752f9c-8c5d-4b60-a17b-92ba122c1988",
   "metadata": {
    "language": "python",
    "name": "cell3",
    "codeCollapsed": false
   },
   "outputs": [],
   "source": "db_name = 'ACCELERATORS'\nstrmlt_role = '_STRMLT_RL'",
   "execution_count": null
  },
  {
   "cell_type": "code",
   "id": "69872b52-5525-4b80-b663-f0aca12b2898",
   "metadata": {
    "language": "python",
    "name": "STRML_DB",
    "codeCollapsed": false
   },
   "outputs": [],
   "source": "session.sql(f\"create database if not exists {db_name}\").collect()\nsession.sql(f\"grant usage on database {db_name} to role {strmlt_role}\").collect()\n\nsession.sql(f\"create schema if not exists {db_name}.STRMLT\").collect()\nsession.sql(f\"grant usage on schema {db_name}.STRMLT to role {strmlt_role}\").collect()\nsession.sql(f\"grant create streamlit on schema {db_name}.STRMLT to role {strmlt_role}\").collect()\n\nsession.sql(f\"create schema if not exists {db_name}.STP\").collect()\nsession.sql(f\"grant usage on schema {db_name}.STP to role {strmlt_role}\").collect()\nsession.sql(f\"grant all on schema {db_name}.STP to role {strmlt_role}\").collect()",
   "execution_count": null
  },
  {
   "cell_type": "code",
   "id": "1d3a3d1a-7731-41f1-bc42-f9b1f0e2283b",
   "metadata": {
    "language": "python",
    "name": "cell2",
    "codeCollapsed": false
   },
   "outputs": [],
   "source": "session.sql(\"CREATE OR REPLACE WAREHOUSE _STRMLT_WH WAREHOUSE_SIZE=XSMALL AUTO_RESUME=TRUE AUTO_SUSPEND = 120 INITIALLY_SUSPENDED=TRUE ;\").collect()\nsession.sql(f\"grant usage on WAREHOUSE _STRMLT_WH to role {strmlt_role}\").collect()",
   "execution_count": null
  },
  {
   "cell_type": "code",
   "id": "c695373e-ac74-4b62-a1f1-08206cbd5c81",
   "metadata": {
    "language": "sql",
    "name": "use_RL_USERADMIN",
    "codeCollapsed": false
   },
   "source": "use role USERADMIN;",
   "execution_count": null,
   "outputs": []
  },
  {
   "cell_type": "code",
   "id": "124deec4-ddde-4579-8346-1ed956744f19",
   "metadata": {
    "language": "python",
    "name": "create_custom_RL"
   },
   "outputs": [],
   "source": "try:\n    session.sql(f\"\"\"\n        create role _STRMLT_RL;\n    \"\"\").collect()\n    session.sql(f\"\"\"\n        grant role STRMLT_RL to role USERADMIN;\n    \"\"\")\nexcept Exception as e:\n    print(e)",
   "execution_count": null
  },
  {
   "cell_type": "code",
   "id": "c732826f-a3b3-4780-ab96-74fead5cba36",
   "metadata": {
    "language": "sql",
    "name": "use_RL_SYSADMIN"
   },
   "outputs": [],
   "source": "use role ACCOUNTADMIN;",
   "execution_count": null
  },
  {
   "cell_type": "code",
   "id": "0000c906-a24c-4bbb-8cad-c51ea9e2ea50",
   "metadata": {
    "language": "python",
    "name": "SF_DB"
   },
   "outputs": [],
   "source": "session.sql(f\"grant database role SNOWFLAKE.SECURITY_VIEWER to role _STRMLT_RL;\")",
   "execution_count": null
  },
  {
   "cell_type": "code",
   "id": "c99d5d91-c9b1-4864-8501-b0fefcd07f4c",
   "metadata": {
    "language": "python",
    "name": "grants_on_secrets__network_rules"
   },
   "outputs": [],
   "source": "for db in session.sql(\"select DATABASE_NAME from SNOWFLAKE.INFORMATION_SCHEMA.DATABASES where DATABASE_OWNER = 'SYSADMIN'\").collect():\n    print(db['DATABASE_NAME'])\n    try:\n        ### ROLE CAN ACCESS DATABASE\n        session.sql(f\"\"\"\n            grant usage on database {db['DATABASE_NAME']} to role _STRMLT_RL;\n        \"\"\").collect()\n        ### ROLE CAN ACCESS ALL SCHEMAS IN DATBASE\n        session.sql(f\"\"\"\n            grant usage on all schemas in database {db['DATABASE_NAME']} to role _STRMLT_RL;\n        \"\"\").collect()\n        ### ROLE CAN CREATE SECRETS\n        session.sql(f\"\"\"\n            grant create secret on all schemas in database {db['DATABASE_NAME']} to role _STRMLT_RL;\n        \"\"\").collect()\n        ### ROLE CAN UPDATE SECRETS\n        session.sql(f\"\"\"\n            grant ownership on all secrets in database {db['DATABASE_NAME']} to role _STRMLT_RL;\n        \"\"\")\n        ### ROLE CAN CREATE SECRETS\n        session.sql(f\"\"\"\n            grant create network rule on all schemas in database {db['DATABASE_NAME']} to role _STRMLT_RL;\n        \"\"\").collect()\n    except Exception as e:\n        print(e)",
   "execution_count": null
  },
  {
   "cell_type": "code",
   "id": "a7d7a175-2e3c-4240-8900-ef45f8f813c2",
   "metadata": {
    "language": "sql",
    "name": "use_RL_ACCOUNTADMIN",
    "codeCollapsed": false
   },
   "outputs": [],
   "source": "use role ACCOUNTADMIN;",
   "execution_count": null
  },
  {
   "cell_type": "code",
   "id": "1d9fe1a4-ec4e-49a2-9e21-b48f1f8510ab",
   "metadata": {
    "language": "python",
    "name": "grant_create_EAI"
   },
   "outputs": [],
   "source": "session.sql(\"grant CREATE EXTERNAL ACCESS INTEGRATION on account to role _STRMLT_RL\").collect()",
   "execution_count": null
  }
 ]
}